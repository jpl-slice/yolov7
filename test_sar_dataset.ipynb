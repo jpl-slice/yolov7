{
 "cells": [
  {
   "cell_type": "code",
   "execution_count": null,
   "id": "13a5e8c4",
   "metadata": {},
   "outputs": [
    {
     "name": "stdout",
     "output_type": "stream",
     "text": [
      "loading annotations into memory...\n",
      "Done (t=0.00s)\n",
      "creating index...\n",
      "index created!\n",
      "279\n",
      "img.shape=torch.Size([3, 640, 640])\n",
      "labels_out.shape=torch.Size([0, 6])\n",
      "labels_out=tensor([], size=(0, 6))\n",
      "file='S1A_IW_GRDH_1SDV_20151206T052036_20151206T052104_008917_00CC34_786E_masked.tif_win10'\n",
      "shapes=((640, 640), ((1.0, 1.0), (0.0, 0.0)))\n"
     ]
    },
    {
     "ename": "",
     "evalue": "",
     "output_type": "error",
     "traceback": [
      "\u001b[1;31mThe Kernel crashed while executing code in the current cell or a previous cell. \n",
      "\u001b[1;31mPlease review the code in the cell(s) to identify a possible cause of the failure. \n",
      "\u001b[1;31mClick <a href='https://aka.ms/vscodeJupyterKernelCrash'>here</a> for more info. \n",
      "\u001b[1;31mView Jupyter <a href='command:jupyter.viewOutput'>log</a> for further details."
     ]
    }
   ],
   "source": [
    "import yaml\n",
    "\n",
    "from utils.datasets import create_dataloader\n",
    "from utils.general import check_dataset\n",
    "from utils.plots import plot_images\n",
    "from types import SimpleNamespace\n",
    "\n",
    "opt = {\n",
    "    \"single_cls\": True,\n",
    "    \"data\": \"/home1/07265/egoh/work/SLICE/yolov7/data/sar.yaml\",\n",
    "    \"img_size\": [640, 640],\n",
    "    \"batch_size\": 36,\n",
    "    \"hyp\": \"/home1/07265/egoh/work/SLICE/yolov7/data/hyp.scratch.p5.yaml\",  # hyperparams path\n",
    "    \"cache_images\": False,  # cache images for faster training\n",
    "    \"rect\": False,\n",
    "    \"world_size\": 1,\n",
    "    \"workers\": 8,\n",
    "    \"image_weights\": False,\n",
    "    \"quad\": False,\n",
    "    \"use_sar_dataset\": True,\n",
    "    \"sar_coco_annotation_file\": \"/home1/07265/egoh/work/SLICE/eddydet/data/processed/coco_annotations.json\"\n",
    "}\n",
    "opt = SimpleNamespace(**opt)  # convert to SimpleNamespace for compatibility\n",
    "hyp = opt.hyp\n",
    "batch_size = opt.batch_size\n",
    "with open(opt.data) as f:\n",
    "    data_dict = yaml.load(f, Loader=yaml.SafeLoader)  # data dict\n",
    "gs = 32\n",
    "rank = -1\n",
    "imgsz, imgsz_test = opt.img_size  # TODO: understand relationship between model.stride.max() and grid_size\n",
    "check_dataset(data_dict)  # check\n",
    "train_path = data_dict['train']\n",
    "dataloader, dataset = create_dataloader(train_path, imgsz, batch_size, gs, opt,\n",
    "                                            hyp=hyp, augment=True, cache=opt.cache_images, rect=opt.rect, rank=rank,\n",
    "                                            world_size=opt.world_size, workers=opt.workers,\n",
    "                                            image_weights=opt.image_weights, quad=opt.quad, prefix='train: ')\n",
    "print(len(dataset))\n",
    "img, labels_out, file, shapes = dataset[10]\n",
    "print(f\"{img.shape=}\\n{labels_out.shape=}\\n{labels_out=}\\n{file=}\\n{shapes=}\")\n",
    "# plot_images(img.unsqueeze(0), labels_out, file, names=None, max_size=640) # Changed labels_out.unsqueeze(0) to labels_out\n",
    "\n",
    "import random\n",
    "# Skip a random number of batches\n",
    "skip_batches = random.randint(0, len(dataloader) - 1)\n",
    "data_iter = iter(dataloader)\n",
    "for _ in range(skip_batches):\n",
    "    next(data_iter)\n",
    "imgs, targets, paths, _ = next(data_iter)\n",
    "moisaic = plot_images(imgs, targets, paths, names=None, max_size=640, max_subplots=36)"
   ]
  },
  {
   "cell_type": "code",
   "execution_count": null,
   "id": "4e7471f4",
   "metadata": {},
   "outputs": [
    {
     "name": "stdout",
     "output_type": "stream",
     "text": [
      "S1A_IW_GRDH_1SDV_20170405T061030_20170405T061055_016005_01A670_C533 (count: 1)\n",
      "S1A_IW_GRDH_1SDV_20170515T053640_20170515T053705_016588_01B83E_C58C (count: 3)\n",
      "S1A_IW_GRDH_1SDV_20161231T051142_20161231T051207_014619_017C44_F8CF (count: 4)\n",
      "S1A_IW_GRDH_1SDV_20160904T173716_20160904T173741_012906_01465D_4EFE (count: 5)\n",
      "S1A_IW_GRDH_1SDV_20161018T052848_20161018T052913_013540_015AB8_EB50 (count: 6)\n",
      "S1A_IW_GRDH_1SDV_20141019T051229_20141019T051254_002894_003475_3153 (count: 7)\n",
      "S1A_IW_GRDH_1SDV_20150830T053608_20150830T053633_007488_00A55C_1E01 (count: 9)\n",
      "S1A_IW_GRDH_1SDV_20141121T172930_20141121T172955_003383_003EF5_25B3 (count: 10)\n",
      "S1A_IW_GRDH_1SDV_20160924T052913_20160924T052938_013190_014FA5_A16C (count: 13)\n",
      "S1A_IW_GRDH_1SDV_20170115T181749_20170115T181814_014846_018332_D7DA (count: 17)\n",
      "S1A_IW_GRDH_1SDV_20160914T051209_20160914T051234_013044_014AB8_92E0 (count: 23)\n",
      "S1A_IW_GRDH_1SDV_20150903T050401_20150903T050426_007546_00A6E6_57C3 (count: 39)\n"
     ]
    },
    {
     "name": "stderr",
     "output_type": "stream",
     "text": [
      "/work/07265/egoh/vista/vista_miniconda3/envs/slice_env_2/lib/python3.13/site-packages/openpyxl/worksheet/_reader.py:329: UserWarning: Unknown extension is not supported and will be removed\n",
      "  warn(msg)\n"
     ]
    }
   ],
   "source": [
    "import random\n",
    "import pandas as pd\n",
    "df = pd.read_excel(\"data/WESTMEDEddies_Gade_engl_orig.xlsx\")\n",
    "\n",
    "# return a stratified sample of \"File Name\"s based on their value counts\n",
    "# Steps:\n",
    "# 1. Get value counts of \"File Name\"\n",
    "# 2. Get histogram of value counts (bin_count = number of images we want, but exclude outliers)\n",
    "# 3. Based on relative frequencies, randomly sample file names from each bin\n",
    "def stratified_sample(df, num_samples=10):\n",
    "    value_counts = df['File Name'].value_counts()\n",
    "    print(value_counts.describe())\n",
    "    from astropy.stats import freedman_bin_width\n",
    "    # drop outliers; keep only 2 sigma left and right of median\n",
    "    value_counts = remove_outliers(value_counts)\n",
    "    print(f\"Filtered value counts:\\n{value_counts.describe()}\")\n",
    "    # sort everything into bins\n",
    "    bin_width = freedman_bin_width(value_counts)\n",
    "    bin_edges = [value_counts.min() + i * bin_width for i in range(int((value_counts.max() - value_counts.min()) / bin_width) + 1)]\n",
    "    bins = pd.cut(value_counts, bins=bin_edges, include_lowest=True)\n",
    "    print(f\"Bins:\\n{bins}\")\n",
    "    # Sample from each bin\n",
    "    sampled_files = []\n",
    "    for bin in bins.cat.categories:\n",
    "        bin_files = value_counts[bins == bin].index.tolist()\n",
    "        if len(bin_files) > 0:\n",
    "            sampled_file = random.choice(bin_files)\n",
    "            sampled_files.append(sampled_file)\n",
    "    # Limit the number of samples to num_samples\n",
    "    if len(sampled_files) > num_samples:\n",
    "        sampled_files = random.sample(sampled_files, num_samples)\n",
    "    return sampled_files\n",
    "    \n",
    "\n",
    "def remove_outliers(value_counts):\n",
    "    median = value_counts.median()\n",
    "    std_dev = value_counts.std()\n",
    "    lower_bound = median - 2 * std_dev\n",
    "    upper_bound = median + 2 * std_dev\n",
    "    value_counts = value_counts[(value_counts >= lower_bound) & (value_counts <= upper_bound)]\n",
    "    return value_counts\n",
    "\n",
    "def stratified_by_count(df, k=10):\n",
    "    # how many labels per image\n",
    "    counts = df[\"File Name\"].value_counts()\n",
    "    # define k equal-sized bins\n",
    "    bins = pd.qcut(counts, q=k, labels=False, duplicates='drop')\n",
    "    sampled = []\n",
    "    for b in sorted(bins.unique()):\n",
    "        candidates = counts[bins == b].index.tolist()\n",
    "        # sampled.append(random.choice(candidates))\n",
    "        # choose file with highest count in bin\n",
    "        # sampled.append(counts[candidates].idxmax())\n",
    "        # choose file with median count in bin\n",
    "        median_count = counts[bins == b].median()\n",
    "        # file_closest_to_median = counts[bins == b].sub(median_count).abs().idxmin()\n",
    "        five_files_closest_to_median = counts[bins == b].nsmallest(5).index.tolist()\n",
    "        # randomly select one of the five closest to median\n",
    "        file_closest_to_median = random.choice(five_files_closest_to_median)\n",
    "        sampled.append(file_closest_to_median)\n",
    "    return sampled\n",
    "\n",
    "# sampled_files = stratified_sample(df, num_samples=20)\n",
    "sampled_files = stratified_by_count(df, k=30)\n",
    "for file in sampled_files:\n",
    "    print(f\"{file} (count: {df[df['File Name'] == file].shape[0]})\")\n",
    "\n",
    "# from astropy.visualization import hist\n",
    "# import matplotlib.pyplot as plt\n",
    "\n",
    "# Plot histogram of value counts\n",
    "# value_counts = df['File Name'].value_counts()\n",
    "# value_counts = remove_outliers(value_counts)  # Remove outliers before plotting\n",
    "# plt.figure(figsize=(10, 6))\n",
    "# hist(value_counts, bins=\"blocks\", label='File Name Counts')"
   ]
  },
  {
   "cell_type": "code",
   "execution_count": 41,
   "id": "0db4854e",
   "metadata": {},
   "outputs": [
    {
     "name": "stdout",
     "output_type": "stream",
     "text": [
      "S1A_IW_GRDH_1SDV_20170326T165624_20170326T165649_015866_01A24E_C46C (count: 1)\n",
      "S1A_IW_GRDH_1SDV_20161113T175310_20161113T175335_013927_0166BB_D864 (count: 3)\n",
      "S1A_IW_GRDH_1SDV_20170413T174520_20170413T174545_016129_01AA39_85D8 (count: 4)\n",
      "S1A_IW_GRDH_1SDV_20170107T174520_20170107T174545_014729_017F92_3EA8 (count: 5)\n",
      "S1A_IW_GRDH_1SDV_20161029T172940_20161029T173005_013708_015FD5_1355 (count: 6)\n",
      "S1A_IW_GRDH_1SDV_20141204T052803_20141204T052828_003565_00434C_B1EA (count: 7)\n",
      "S1A_IW_GRDH_1SDV_20161113T175425_20161113T175450_013927_0166BB_0BE8 (count: 8)\n",
      "S1A_IW_GRDH_1SDV_20160921T174612_20160921T174637_013154_014E66_B0FD (count: 10)\n",
      "S1A_IW_GRDH_1SDV_20170301T175331_20170301T175356_015502_019766_6652 (count: 12)\n",
      "S1A_IW_GRDH_1SDV_20170129T180138_20170129T180203_015050_018978_C931 (count: 15)\n",
      "S1A_IW_GRDH_1SDV_20161018T052758_20161018T052823_013540_015AB8_FC43 (count: 20)\n",
      "S1A_IW_GRDH_1SDV_20161223T172220_20161223T172245_014510_0178EB_87A0 (count: 29)\n"
     ]
    }
   ],
   "source": [
    "def stratified_by_count(df, k=10):\n",
    "    # how many labels per image\n",
    "    counts = df[\"File Name\"].value_counts()\n",
    "    # define k equal-sized bins\n",
    "    bins = pd.qcut(counts, q=k, labels=False, duplicates='drop')\n",
    "    sampled = []\n",
    "    for b in sorted(bins.unique()):\n",
    "        candidates = counts[bins == b].index.tolist()\n",
    "        # sampled.append(random.choice(candidates))\n",
    "        # choose file with highest count in bin\n",
    "        # sampled.append(counts[candidates].idxmax())\n",
    "        # choose file with median count in bin\n",
    "        median_count = counts[bins == b].median()\n",
    "        # file_closest_to_median = counts[bins == b].sub(median_count).abs().idxmin()\n",
    "        five_files_closest_to_median = counts[bins == b].nsmallest(5).index.tolist()\n",
    "        # randomly select one of the five closest to median\n",
    "        file_closest_to_median = random.choice(five_files_closest_to_median)\n",
    "        sampled.append(file_closest_to_median)\n",
    "    return sampled\n",
    "\n",
    "sampled_files = stratified_by_count(df, k=30)\n",
    "for file in sampled_files:\n",
    "    print(f\"{file} (count: {df[df['File Name'] == file].shape[0]})\")\n"
   ]
  },
  {
   "cell_type": "code",
   "execution_count": 45,
   "id": "d2428483",
   "metadata": {},
   "outputs": [
    {
     "data": {
      "text/plain": [
       "['S1A_IW_GRDH_1SDV_20170326T165624_20170326T165649_015866_01A24E_C46C',\n",
       " 'S1A_IW_GRDH_1SDV_20161113T175310_20161113T175335_013927_0166BB_D864',\n",
       " 'S1A_IW_GRDH_1SDV_20170413T174520_20170413T174545_016129_01AA39_85D8',\n",
       " 'S1A_IW_GRDH_1SDV_20170107T174520_20170107T174545_014729_017F92_3EA8',\n",
       " 'S1A_IW_GRDH_1SDV_20161029T172940_20161029T173005_013708_015FD5_1355',\n",
       " 'S1A_IW_GRDH_1SDV_20141204T052803_20141204T052828_003565_00434C_B1EA',\n",
       " 'S1A_IW_GRDH_1SDV_20161113T175425_20161113T175450_013927_0166BB_0BE8',\n",
       " 'S1A_IW_GRDH_1SDV_20160921T174612_20160921T174637_013154_014E66_B0FD',\n",
       " 'S1A_IW_GRDH_1SDV_20170301T175331_20170301T175356_015502_019766_6652',\n",
       " 'S1A_IW_GRDH_1SDV_20170129T180138_20170129T180203_015050_018978_C931',\n",
       " 'S1A_IW_GRDH_1SDV_20161018T052758_20161018T052823_013540_015AB8_FC43',\n",
       " 'S1A_IW_GRDH_1SDV_20161223T172220_20161223T172245_014510_0178EB_87A0']"
      ]
     },
     "execution_count": 45,
     "metadata": {},
     "output_type": "execute_result"
    }
   ],
   "source": [
    "sampled_files"
   ]
  },
  {
   "cell_type": "code",
   "execution_count": 44,
   "id": "c664d731",
   "metadata": {},
   "outputs": [
    {
     "data": {
      "text/plain": [
       "True"
      ]
     },
     "execution_count": 44,
     "metadata": {},
     "output_type": "execute_result"
    }
   ],
   "source": [
    "train = [\n",
    "    \"S1A_IW_GRDH_1SDV_20141121T172930_20141121T172955_003383_003EF5_25B3\",\n",
    "    \"S1A_IW_GRDH_1SDV_20141019T051229_20141019T051254_002894_003475_3153\",\n",
    "    \"S1A_IW_GRDH_1SDV_20160904T173716_20160904T173741_012906_01465D_4EFE\",\n",
    "    \"S1A_IW_GRDH_1SDV_20150903T050401_20150903T050426_007546_00A6E6_57C3\",\n",
    "    \"S1A_IW_GRDH_1SDV_20170115T181749_20170115T181814_014846_018332_D7DA\",\n",
    "    \"S1A_IW_GRDH_1SDV_20160914T051209_20160914T051234_013044_014AB8_92E0\",\n",
    "    \"S1A_IW_GRDH_1SDV_20160924T052913_20160924T052938_013190_014FA5_A16C\",\n",
    "    \"S1A_IW_GRDH_1SDV_20161018T052848_20161018T052913_013540_015AB8_EB50\",\n",
    "    \"S1A_IW_GRDH_1SDV_20170405T061030_20170405T061055_016005_01A670_C533\",\n",
    "    \"S1A_IW_GRDH_1SDV_20170515T053640_20170515T053705_016588_01B83E_C58C\",\n",
    "    \"S1A_IW_GRDH_1SDV_20161231T051142_20161231T051207_014619_017C44_F8CF\",\n",
    "    \"S1A_IW_GRDH_1SDV_20150830T053608_20150830T053633_007488_00A55C_1E01\",\n",
    "]\n",
    "(set(sampled_files) - set(train))  == set(sampled_files)"
   ]
  },
  {
   "cell_type": "code",
   "execution_count": 5,
   "id": "15464934",
   "metadata": {},
   "outputs": [
    {
     "data": {
      "text/plain": [
       "<Axes: >"
      ]
     },
     "execution_count": 5,
     "metadata": {},
     "output_type": "execute_result"
    },
    {
     "data": {
      "image/png": "[encoded data removed]",
      "text/plain": [
       "<Figure size 640x480 with 1 Axes>"
      ]
     },
     "metadata": {},
     "output_type": "display_data"
    }
   ],
   "source": [
    "df[\"File Name\"].value_counts().hist(bins=100)"
   ]
  }
 ],
 "metadata": {
  "kernelspec": {
   "display_name": "slice_env_2",
   "language": "python",
   "name": "python3"
  },
  "language_info": {
   "codemirror_mode": {
    "name": "ipython",
    "version": 3
   },
   "file_extension": ".py",
   "mimetype": "text/x-python",
   "name": "python",
   "nbconvert_exporter": "python",
   "pygments_lexer": "ipython3",
   "version": "3.13.2"
  }
 },
 "nbformat": 4,
 "nbformat_minor": 5
}
